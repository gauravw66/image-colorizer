import os
import urllib.request
import numpy as np

# Create a directory to store model files
model_dir = 'model'
os.makedirs(model_dir, exist_ok=True)

# Updated URLs for the required files from OpenCV repository
prototxt_url = 'https://raw.githubusercontent.com/opencv/opencv/master/samples/dnn/colorization_deploy_v2.prototxt'
caffemodel_url = 'https://raw.githubusercontent.com/opencv/opencv_3rdparty/master/dnn_samples/colorization_release_v2.caffemodel'
pts_in_hull_url = 'https://raw.githubusercontent.com/opencv/opencv/master/samples/dnn/pts_in_hull.npy'

# File paths
prototxt_path = os.path.join(model_dir, 'colorization_deploy_v2.prototxt')
caffemodel_path = os.path.join(model_dir, 'colorization_release_v2.caffemodel')
pts_in_hull_path = os.path.join(model_dir, 'pts_in_hull.npy')

# Function to download a file if it doesn't exist
def download_file(url, dest_path, description):
    if not os.path.isfile(dest_path):
        print(f'Downloading {description}...')
        try:
            urllib.request.urlretrieve(url, dest_path)
            print(f'Downloaded {description} successfully.')
        except Exception as e:
            print(f'Failed to download {description}. Error: {e}')
    else:
        print(f'{description} already exists.')

# Download the files
download_file(prototxt_url, prototxt_path, 'Prototxt File')
download_file(caffemodel_url, caffemodel_path, 'Caffe Model')
download_file(pts_in_hull_url, pts_in_hull_path, 'Cluster Centers (pts_in_hull.npy)')

import cv2
import numpy as np

# Verify that all model files have been downloaded successfully
if not all(os.path.isfile(path) for path in [prototxt_path, caffemodel_path, pts_in_hull_path]):
    raise FileNotFoundError("One or more model files are missing. Please ensure all files are downloaded correctly.")

# Load the cluster centers
pts_in_hull = np.load(pts_in_hull_path)

# Load the network
net = cv2.dnn.readNetFromCaffe(prototxt_path, caffemodel_path)

# Populate the cluster centers as 1x1 convolutions
pts_in_hull = pts_in_hull.transpose().reshape(2, 313, 1, 1)
net.getLayer(net.getLayerId('class8_ab')).blobs = [pts_in_hull.astype(np.float32)]
net.getLayer(net.getLayerId('conv8_313_rh')).blobs = [np.full([1, 313], 2.606, dtype="float32")]

def colorize_image(image_filename=None, cv2_frame=None):
    """
    Colorizes an image using the pre-trained colorization model.
    
    :param image_filename: (str) Path to the input image.
    :param cv2_frame: (numpy.ndarray) OpenCV image array.
    :return: Tuple of original and colorized images in BGR format.
    """
    # Load the image
    if image_filename:
        image = cv2.imread(image_filename)
    elif cv2_frame is not None:
        image = cv2_frame.copy()
    else:
        raise ValueError("Either image_filename or cv2_frame must be provided.")
    
    if image is None:
        raise FileNotFoundError("Image not found or unable to load.")
    
    # Scale the image and convert to LAB color space
    scaled = image.astype("float32") / 255.0
    lab = cv2.cvtColor(scaled, cv2.COLOR_BGR2LAB)
    
    # Resize the image to network input size (224x224)
    resized = cv2.resize(lab, (224, 224))
    L = resized[:, :, 0]
    L -= 50  # Mean-centering
    
    # Prepare the blob and pass through the network
    net.setInput(cv2.dnn.blobFromImage(L))
    ab = net.forward()[0, :, :, :].transpose((1, 2, 0))
    
    # Resize the ab channels to the original image size
    ab = cv2.resize(ab, (image.shape[1], image.shape[0]))
    
    # Concatenate the original L channel with the predicted ab channels
    L = lab[:, :, 0]
    colorized_lab = np.concatenate((L[:, :, np.newaxis], ab), axis=2)
    
    # Convert back to BGR color space
    colorized = cv2.cvtColor(colorized_lab, cv2.COLOR_LAB2BGR)
    colorized = np.clip(colorized, 0, 1)
    colorized = (255 * colorized).astype("uint8")
    
    return image, colorized

def convert_to_grayscale(frame):
    """
    Converts a BGR image to grayscale with three channels.
    
    :param frame: (numpy.ndarray) BGR image.
    :return: Grayscale image with three channels.
    """
    gray = cv2.cvtColor(frame, cv2.COLOR_BGR2GRAY)
    gray_3_channels = cv2.cvtColor(gray, cv2.COLOR_GRAY2BGR)
    return gray_3_channels

# ---------------------------- Step 5: Colorize and Display ----------------------------
import matplotlib.pyplot as plt

# Path to your grayscale image
image_path = 'img5.jpg'  # Replace with your image path

# Optionally convert a color image to grayscale
# Uncomment the following lines if your input image is in color
# original_image = cv2.imread(image_path)
# grayscale_image = convert_to_grayscale(original_image)
# cv2.imwrite('converted_grayscale.jpg', grayscale_image)
# image_path = 'converted_grayscale.jpg'

# Colorize the image
try:
    original, colorized = colorize_image(image_filename=image_path)
except Exception as e:
    print(f"Error: {e}")

# Convert BGR images to RGB for displaying with matplotlib
original_rgb = cv2.cvtColor(original, cv2.COLOR_BGR2RGB)
colorized_rgb = cv2.cvtColor(colorized, cv2.COLOR_BGR2RGB)

# Display the images
plt.figure(figsize=(12, 6))

plt.subplot(1, 2, 1)
plt.imshow(original_rgb)
plt.title('Original Image')
plt.axis('off')

plt.subplot(1, 2, 2)
plt.imshow(colorized_rgb)
plt.title('Colorized Image')
plt.axis('off')

plt.show()
